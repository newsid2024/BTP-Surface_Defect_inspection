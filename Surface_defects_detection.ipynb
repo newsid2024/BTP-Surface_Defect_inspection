{
 "cells": [
  {
   "cell_type": "code",
   "execution_count": 1,
   "metadata": {},
   "outputs": [],
   "source": [
    "import tensorflow as tf\n",
    "from tensorflow.keras.optimizers import RMSprop\n",
    "from tensorflow.keras.preprocessing.image import ImageDataGenerator\n",
    "import os"
   ]
  },
  {
   "cell_type": "code",
   "execution_count": 3,
   "metadata": {},
   "outputs": [
    {
     "name": "stdout",
     "output_type": "stream",
     "text": [
      "7\n"
     ]
    }
   ],
   "source": [
    "#before doing these please make a folder as train data and in the train folder create another six folder for six defects\n",
    "#These six folder should have 300 images.\n",
    "try:\n",
    "    source1 = \"NEU/train\"\n",
    "    os.mkdir(\"NEU/test\")\n",
    "    dest11 = \"NEU/test\"\n",
    "    files = os.listdir(source1)\n",
    "    import shutil\n",
    "    import numpy as np\n",
    "    for f in files:\n",
    "        os.mkdir(dest11 + '/'+ f)\n",
    "        spilt_num=int(len(os.listdir(source1 + '/'+ f))*0.08)\n",
    "        for i in os.listdir(source1 + '/'+ f)[spilt_num:]:\n",
    "            shutil.move(source1 + '/'+ f +'/'+ i, dest11 + '/'+ f +'/'+ i)\n",
    "except:\n",
    "    print(\"\\nEverything already have in the directory. You don't need to run this cell\")"
   ]
  },
  {
   "cell_type": "code",
   "execution_count": null,
   "metadata": {},
   "outputs": [],
   "source": [
    "try:\n",
    "    source1 = \"NEU/test\"\n",
    "    os.mkdir(\"NEU/valid\")\n",
    "    dest11 = \"NEU/valid\"\n",
    "    files = os.listdir(source1)\n",
    "    import shutil\n",
    "    import numpy as np\n",
    "    for f in files:\n",
    "        os.mkdir(dest11 + '/'+ f)\n",
    "        spilt_num=int(len(os.listdir(source1 + '/'+ f))*0.5)\n",
    "        for i in os.listdir(source1 + '/'+ f)[spilt_num:]:\n",
    "            shutil.move(source1 + '/'+ f +'/'+ i, dest11 + '/'+ f +'/'+ i)\n",
    "except:\n",
    "    print(\"\\nEverything already have in the directory. You don't need to run this cell\")"
   ]
  },
  {
   "cell_type": "code",
   "execution_count": 10,
   "metadata": {},
   "outputs": [
    {
     "name": "stdout",
     "output_type": "stream",
     "text": [
      "Found 1656 images belonging to 6 classes.\n",
      "Found 72 images belonging to 6 classes.\n"
     ]
    }
   ],
   "source": [
    "# All images will be rescaled by 1./255\n",
    "train_datagen = ImageDataGenerator(\n",
    "    rescale=1. / 255,\n",
    "    shear_range=0.2,\n",
    "    zoom_range=0.2,\n",
    "    horizontal_flip=True)\n",
    "\n",
    "\n",
    "test_datagen = ImageDataGenerator(rescale=1./255)\n",
    "\n",
    "# Flow training images in batches of 10 using train_datagen generator\n",
    "train_generator = train_datagen.flow_from_directory(\n",
    "        'NEU/train',\n",
    "        target_size=(200, 200),\n",
    "        batch_size=10,\n",
    "        class_mode='categorical')\n",
    "\n",
    "# Flow validation images in batches of 10 using test_datagen generator\n",
    "validation_generator = test_datagen.flow_from_directory(\n",
    "        'NEU/valid',\n",
    "        target_size=(200, 200),\n",
    "        batch_size=10,\n",
    "        class_mode='categorical')"
   ]
  },
  {
   "cell_type": "code",
   "execution_count": 11,
   "metadata": {},
   "outputs": [],
   "source": [
    "class myCallback(tf.keras.callbacks.Callback):\n",
    "    def on_epoch_end(self, epoch, logs={}):\n",
    "        if(logs.get('accuracy') > 0.978 ):\n",
    "            print(\"\\nReached 97.8% accuracy so cancelling training!\")\n",
    "            self.model.stop_training = True "
   ]
  },
  {
   "cell_type": "code",
   "execution_count": 18,
   "metadata": {},
   "outputs": [
    {
     "name": "stdout",
     "output_type": "stream",
     "text": [
      "Model: \"sequential_2\"\n",
      "_________________________________________________________________\n",
      "Layer (type)                 Output Shape              Param #   \n",
      "=================================================================\n",
      "conv2d_6 (Conv2D)            (None, 199, 199, 32)      416       \n",
      "_________________________________________________________________\n",
      "max_pooling2d_6 (MaxPooling2 (None, 99, 99, 32)        0         \n",
      "_________________________________________________________________\n",
      "conv2d_7 (Conv2D)            (None, 98, 98, 64)        8256      \n",
      "_________________________________________________________________\n",
      "max_pooling2d_7 (MaxPooling2 (None, 49, 49, 64)        0         \n",
      "_________________________________________________________________\n",
      "conv2d_8 (Conv2D)            (None, 48, 48, 128)       32896     \n",
      "_________________________________________________________________\n",
      "max_pooling2d_8 (MaxPooling2 (None, 24, 24, 128)       0         \n",
      "_________________________________________________________________\n",
      "flatten_2 (Flatten)          (None, 73728)             0         \n",
      "_________________________________________________________________\n",
      "dense_4 (Dense)              (None, 256)               18874624  \n",
      "_________________________________________________________________\n",
      "dropout_2 (Dropout)          (None, 256)               0         \n",
      "_________________________________________________________________\n",
      "dense_5 (Dense)              (None, 6)                 1542      \n",
      "=================================================================\n",
      "Total params: 18,917,734\n",
      "Trainable params: 18,917,734\n",
      "Non-trainable params: 0\n",
      "_________________________________________________________________\n"
     ]
    }
   ],
   "source": [
    "model = tf.keras.models.Sequential([\n",
    "    tf.keras.layers.Conv2D(32, (2,2), activation='relu', input_shape=(200, 200, 3)),\n",
    "    tf.keras.layers.MaxPooling2D(2, 2),\n",
    "    tf.keras.layers.Conv2D(64, (2,2), activation='relu'),\n",
    "    tf.keras.layers.MaxPooling2D(2,2),\n",
    "    tf.keras.layers.Conv2D(128, (2,2), activation='relu'),\n",
    "    tf.keras.layers.MaxPooling2D(2,2),\n",
    "    tf.keras.layers.Flatten(),\n",
    "    tf.keras.layers.Dense(256, activation='relu'),\n",
    "    tf.keras.layers.Dropout(0.2),\n",
    "    tf.keras.layers.Dense(6, activation='softmax')\n",
    "])\n",
    "\n",
    "model.summary()"
   ]
  },
  {
   "cell_type": "code",
   "execution_count": 19,
   "metadata": {},
   "outputs": [
    {
     "name": "stdout",
     "output_type": "stream",
     "text": [
      "Compiled!\n"
     ]
    }
   ],
   "source": [
    "model.compile(loss='categorical_crossentropy',\n",
    "              optimizer='rmsprop',\n",
    "              metrics=['accuracy'])\n",
    "print('Compiled!')"
   ]
  },
  {
   "cell_type": "code",
   "execution_count": 20,
   "metadata": {},
   "outputs": [
    {
     "name": "stdout",
     "output_type": "stream",
     "text": [
      "Epoch 1/15\n",
      "166/166 [==============================] - 79s 477ms/step - loss: 1.7272 - accuracy: 0.3575 - val_loss: 0.9872 - val_accuracy: 0.6528\n",
      "Epoch 2/15\n",
      "166/166 [==============================] - 78s 467ms/step - loss: 1.0955 - accuracy: 0.6117 - val_loss: 0.4076 - val_accuracy: 0.8889\n",
      "Epoch 3/15\n",
      "166/166 [==============================] - 88s 533ms/step - loss: 0.7862 - accuracy: 0.7307 - val_loss: 0.4666 - val_accuracy: 0.8889\n",
      "Epoch 4/15\n",
      "166/166 [==============================] - 82s 495ms/step - loss: 0.6570 - accuracy: 0.7886 - val_loss: 0.8594 - val_accuracy: 0.6944\n",
      "Epoch 5/15\n",
      "166/166 [==============================] - 83s 500ms/step - loss: 0.5659 - accuracy: 0.8194 - val_loss: 0.0899 - val_accuracy: 0.9722\n",
      "Epoch 6/15\n",
      "166/166 [==============================] - 80s 485ms/step - loss: 0.5027 - accuracy: 0.8466 - val_loss: 0.2118 - val_accuracy: 0.9444\n",
      "Epoch 7/15\n",
      "166/166 [==============================] - 82s 493ms/step - loss: 0.4467 - accuracy: 0.8665 - val_loss: 0.0606 - val_accuracy: 0.9861\n",
      "Epoch 8/15\n",
      "166/166 [==============================] - 89s 535ms/step - loss: 0.4267 - accuracy: 0.8859 - val_loss: 0.0980 - val_accuracy: 0.9722\n",
      "Epoch 9/15\n",
      "166/166 [==============================] - 91s 547ms/step - loss: 0.4595 - accuracy: 0.8762 - val_loss: 0.2446 - val_accuracy: 0.9028\n",
      "Epoch 10/15\n",
      "166/166 [==============================] - 88s 532ms/step - loss: 0.3676 - accuracy: 0.8895 - val_loss: 0.1228 - val_accuracy: 0.9861\n",
      "Epoch 11/15\n",
      "166/166 [==============================] - 88s 527ms/step - loss: 0.3557 - accuracy: 0.8847 - val_loss: 0.0926 - val_accuracy: 0.9583\n",
      "Epoch 12/15\n",
      "166/166 [==============================] - 86s 519ms/step - loss: 0.3145 - accuracy: 0.9082 - val_loss: 0.0733 - val_accuracy: 0.9861\n",
      "Epoch 13/15\n",
      "166/166 [==============================] - 79s 478ms/step - loss: 0.3541 - accuracy: 0.9010 - val_loss: 0.4760 - val_accuracy: 0.8750\n",
      "Epoch 14/15\n",
      "166/166 [==============================] - 85s 511ms/step - loss: 0.3334 - accuracy: 0.9022 - val_loss: 0.2894 - val_accuracy: 0.9028\n",
      "Epoch 15/15\n",
      "166/166 [==============================] - 95s 572ms/step - loss: 0.3990 - accuracy: 0.9028 - val_loss: 0.2587 - val_accuracy: 0.9583\n"
     ]
    }
   ],
   "source": [
    "callbacks = myCallback()\n",
    "history = model.fit(train_generator,\n",
    "        batch_size = 32,\n",
    "        epochs=15,\n",
    "        validation_data=validation_generator,\n",
    "        callbacks=[callbacks],\n",
    "        verbose=1, shuffle=True)"
   ]
  },
  {
   "cell_type": "code",
   "execution_count": 21,
   "metadata": {},
   "outputs": [
    {
     "data": {
      "image/png": "[encoded data removed]",
      "text/plain": [
       "<Figure size 432x288 with 2 Axes>"
      ]
     },
     "metadata": {
      "needs_background": "light"
     },
     "output_type": "display_data"
    }
   ],
   "source": [
    "import matplotlib.pyplot as plt \n",
    "plt.figure(1)  \n",
    "# summarize history for accuracy  \n",
    "plt.subplot(211)  \n",
    "plt.plot(history.history['accuracy'])  \n",
    "plt.plot(history.history['val_accuracy'])  \n",
    "plt.title('model accuracy')  \n",
    "plt.ylabel('accuracy')  \n",
    "plt.xlabel('epoch')  \n",
    "plt.legend(['train', 'test'], loc='upper left')  \n",
    "   \n",
    " # summarize history for loss  \n",
    "   \n",
    "plt.subplot(212)  \n",
    "plt.plot(history.history['loss'])  \n",
    "plt.plot(history.history['val_loss'])  \n",
    "plt.title('model loss')  \n",
    "plt.ylabel('loss')  \n",
    "plt.xlabel('epoch')  \n",
    "plt.legend(['train', 'test'], loc='upper left')  \n",
    "plt.show()\n"
   ]
  },
  {
   "cell_type": "code",
   "execution_count": null,
   "metadata": {},
   "outputs": [],
   "source": []
  }
 ],
 "metadata": {
  "kernelspec": {
   "display_name": "Python 3 (ipykernel)",
   "language": "python",
   "name": "python3"
  },
  "language_info": {
   "codemirror_mode": {
    "name": "ipython",
    "version": 3
   },
   "file_extension": ".py",
   "mimetype": "text/x-python",
   "name": "python",
   "nbconvert_exporter": "python",
   "pygments_lexer": "ipython3",
   "version": "3.11.5"
  }
 },
 "nbformat": 4,
 "nbformat_minor": 4
}
